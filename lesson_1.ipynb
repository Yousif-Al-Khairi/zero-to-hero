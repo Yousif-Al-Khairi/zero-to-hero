{
 "cells": [
  {
   "cell_type": "code",
   "execution_count": 1,
   "metadata": {},
   "outputs": [],
   "source": [
    "import math\n",
    "import numpy as np\n",
    "import matplotlib.pyplot as plt\n",
    "%matplotlib inline"
   ]
  },
  {
   "cell_type": "code",
   "execution_count": 2,
   "metadata": {},
   "outputs": [],
   "source": [
    "def f(x):\n",
    "    return 3*x**2-4*x+5"
   ]
  },
  {
   "cell_type": "code",
   "execution_count": 3,
   "metadata": {},
   "outputs": [
    {
     "data": {
      "text/plain": [
       "20.0"
      ]
     },
     "execution_count": 3,
     "metadata": {},
     "output_type": "execute_result"
    }
   ],
   "source": [
    "f(3.0)"
   ]
  },
  {
   "cell_type": "code",
   "execution_count": 4,
   "metadata": {},
   "outputs": [
    {
     "data": {
      "text/plain": [
       "[<matplotlib.lines.Line2D at 0x15c9cd26410>]"
      ]
     },
     "execution_count": 4,
     "metadata": {},
     "output_type": "execute_result"
    },
    {
     "data": {
      "image/png": "[encoded data removed]",
      "text/plain": [
       "<Figure size 640x480 with 1 Axes>"
      ]
     },
     "metadata": {},
     "output_type": "display_data"
    }
   ],
   "source": [
    "xs = np.arange(-5,5,0.25)\n",
    "ys = f(xs)\n",
    "plt.plot(xs,ys)"
   ]
  },
  {
   "cell_type": "code",
   "execution_count": 5,
   "metadata": {},
   "outputs": [
    {
     "data": {
      "text/plain": [
       "2.999378523327323e-06"
      ]
     },
     "execution_count": 5,
     "metadata": {},
     "output_type": "execute_result"
    }
   ],
   "source": [
    "h = 0.000001\n",
    "x = 2/3\n",
    "(f(x+h) -f(x))/h"
   ]
  },
  {
   "cell_type": "code",
   "execution_count": 6,
   "metadata": {},
   "outputs": [
    {
     "name": "stdout",
     "output_type": "stream",
     "text": [
      "4.0\n"
     ]
    }
   ],
   "source": [
    "#let's get more complex (ok karpathy)\n",
    "\n",
    "a = 2.0\n",
    "b = -3\n",
    "c = 10\n",
    "\n",
    "d = a*b+c\n",
    "print(d)"
   ]
  },
  {
   "cell_type": "code",
   "execution_count": 7,
   "metadata": {},
   "outputs": [
    {
     "name": "stdout",
     "output_type": "stream",
     "text": [
      "d1, 4.0\n",
      "d2 4.0001\n",
      "slope 0.9999999999976694\n"
     ]
    }
   ],
   "source": [
    "h = 0.0001\n",
    "\n",
    "#inputs\n",
    "a = 2.0\n",
    "b = -3\n",
    "c = 10\n",
    "\n",
    "d1 = a*b+c\n",
    "c += h\n",
    "d2 = a*b+c\n",
    "print('d1,',d1)\n",
    "print('d2',d2)\n",
    "print('slope',(d2-d1)/h)"
   ]
  },
  {
   "cell_type": "code",
   "execution_count": 8,
   "metadata": {},
   "outputs": [],
   "source": [
    "class Value:\n",
    "    def __init__(self,data, _children = (), _op ='', label = ''):\n",
    "        self.data = data\n",
    "        self.grad = 0.0\n",
    "        self._prev = set(_children)\n",
    "        self._op = _op\n",
    "        self.label = label\n",
    "    def __repr__(self):\n",
    "        return f'Value(data={self.data})'\n",
    "    \n",
    "\n",
    "    def __add__(self,other):\n",
    "        out = Value(self.data + other.data, (self, other), '+')\n",
    "        return out\n",
    "    \n",
    "\n",
    "    def __mul__(self,other):\n",
    "        out = Value(self.data * other.data, (self, other), '*')\n",
    "        return out\n",
    "    \n",
    "    def tanh(self):\n",
    "        x = self.data\n",
    "        t = (math.exp(2*x)-1) / (math.exp(2*x)+1)\n",
    "        out = Value(t, (self, ), 'tanh')\n",
    "        return out\n",
    "\n",
    "        \n",
    "\n",
    "a = Value(2.0, label = 'a')\n",
    "b = Value(-3.0, label = 'b')\n",
    "c = Value(10.0, label = 'c')\n",
    "e = a*b; e.label = 'e'\n",
    "\n",
    "d = e + c; d.label = 'd'\n",
    "f = Value(-2.0, label ='f')\n",
    "L = d*f; L.label = 'L'\n",
    "\n"
   ]
  },
  {
   "cell_type": "code",
   "execution_count": 9,
   "metadata": {},
   "outputs": [],
   "source": [
    "from graphviz import Digraph\n",
    "\n",
    "def trace(root):\n",
    "    nodes, edges = set(), set()\n",
    "    def build(v):\n",
    "        if v not in nodes:\n",
    "            nodes.add(v)\n",
    "            for child in v._prev:\n",
    "                edges.add((child,v))\n",
    "                build(child)\n",
    "    build(root)\n",
    "    return nodes,edges\n",
    "\n",
    "\n",
    "def draw_dot(root):\n",
    "    dot = Digraph(format='svg', graph_attr = {'rankdir':'LR'})\n",
    "    nodes, edges = trace(root)\n",
    "    for n in nodes:\n",
    "        uid = str(id(n))\n",
    "        dot.node(name = uid, label = '{ %s |data %.4f | grad%.4f}' % (n.label,n.data, n.grad), shape = 'record')\n",
    "        if n._op:\n",
    "            dot.node(name = uid + n._op, label = n._op)\n",
    "            dot.edge(uid + n._op,uid)\n",
    "    for n1,n2 in edges:\n",
    "        dot.edge(str(id(n1)), str(id(n2)) + n2._op)\n",
    "    return dot"
   ]
  },
  {
   "cell_type": "code",
   "execution_count": 10,
   "metadata": {},
   "outputs": [
    {
     "data": {
      "image/svg+xml": [
       "<?xml version=\"1.0\" encoding=\"UTF-8\" standalone=\"no\"?>\n",
       "<!DOCTYPE svg PUBLIC \"-//W3C//DTD SVG 1.1//EN\"\n",
       " \"http://www.w3.org/Graphics/SVG/1.1/DTD/svg11.dtd\">\n",
       "<!-- Generated by graphviz version 12.1.0 (20240811.2233)\n",
       " -->\n",
       "<!-- Pages: 1 -->\n",
       "<svg width=\"1125pt\" height=\"128pt\"\n",
       " viewBox=\"0.00 0.00 1124.75 128.00\" xmlns=\"http://www.w3.org/2000/svg\" xmlns:xlink=\"http://www.w3.org/1999/xlink\">\n",
       "<g id=\"graph0\" class=\"graph\" transform=\"scale(1 1) rotate(0) translate(4 124)\">\n",
       "<polygon fill=\"white\" stroke=\"none\" points=\"-4,4 -4,-124 1120.75,-124 1120.75,4 -4,4\"/>\n",
       "<!-- 1497280429072 -->\n",
       "<g id=\"node1\" class=\"node\">\n",
       "<title>1497280429072</title>\n",
       "<polygon fill=\"none\" stroke=\"black\" points=\"310.5,-83.5 310.5,-119.5 496.5,-119.5 496.5,-83.5 310.5,-83.5\"/>\n",
       "<text text-anchor=\"middle\" x=\"321.5\" y=\"-96.7\" font-family=\"Times New Roman,serif\" font-size=\"14.00\">c</text>\n",
       "<polyline fill=\"none\" stroke=\"black\" points=\"332.5,-84 332.5,-119.5\"/>\n",
       "<text text-anchor=\"middle\" x=\"375.75\" y=\"-96.7\" font-family=\"Times New Roman,serif\" font-size=\"14.00\">data 10.0000</text>\n",
       "<polyline fill=\"none\" stroke=\"black\" points=\"419,-84 419,-119.5\"/>\n",
       "<text text-anchor=\"middle\" x=\"457.75\" y=\"-96.7\" font-family=\"Times New Roman,serif\" font-size=\"14.00\">grad0.0000</text>\n",
       "</g>\n",
       "<!-- 1497280428688+ -->\n",
       "<g id=\"node4\" class=\"node\">\n",
       "<title>1497280428688+</title>\n",
       "<ellipse fill=\"none\" stroke=\"black\" cx=\"559.5\" cy=\"-73.5\" rx=\"27\" ry=\"18\"/>\n",
       "<text text-anchor=\"middle\" x=\"559.5\" y=\"-68.45\" font-family=\"Times New Roman,serif\" font-size=\"14.00\">+</text>\n",
       "</g>\n",
       "<!-- 1497280429072&#45;&gt;1497280428688+ -->\n",
       "<g id=\"edge4\" class=\"edge\">\n",
       "<title>1497280429072&#45;&gt;1497280428688+</title>\n",
       "<path fill=\"none\" stroke=\"black\" d=\"M496.75,-84.73C505.6,-83.12 514.17,-81.56 521.96,-80.14\"/>\n",
       "<polygon fill=\"black\" stroke=\"black\" points=\"522.43,-83.62 531.65,-78.38 521.18,-76.73 522.43,-83.62\"/>\n",
       "</g>\n",
       "<!-- 1497280428592 -->\n",
       "<g id=\"node2\" class=\"node\">\n",
       "<title>1497280428592</title>\n",
       "<polygon fill=\"none\" stroke=\"black\" points=\"622.5,-0.5 622.5,-36.5 804.75,-36.5 804.75,-0.5 622.5,-0.5\"/>\n",
       "<text text-anchor=\"middle\" x=\"632.75\" y=\"-13.7\" font-family=\"Times New Roman,serif\" font-size=\"14.00\">f</text>\n",
       "<polyline fill=\"none\" stroke=\"black\" points=\"643,-1 643,-36.5\"/>\n",
       "<text text-anchor=\"middle\" x=\"685.12\" y=\"-13.7\" font-family=\"Times New Roman,serif\" font-size=\"14.00\">data &#45;2.0000</text>\n",
       "<polyline fill=\"none\" stroke=\"black\" points=\"727.25,-1 727.25,-36.5\"/>\n",
       "<text text-anchor=\"middle\" x=\"766\" y=\"-13.7\" font-family=\"Times New Roman,serif\" font-size=\"14.00\">grad0.0000</text>\n",
       "</g>\n",
       "<!-- 1497280428832* -->\n",
       "<g id=\"node7\" class=\"node\">\n",
       "<title>1497280428832*</title>\n",
       "<ellipse fill=\"none\" stroke=\"black\" cx=\"867.75\" cy=\"-45.5\" rx=\"27\" ry=\"18\"/>\n",
       "<text text-anchor=\"middle\" x=\"867.75\" y=\"-40.45\" font-family=\"Times New Roman,serif\" font-size=\"14.00\">*</text>\n",
       "</g>\n",
       "<!-- 1497280428592&#45;&gt;1497280428832* -->\n",
       "<g id=\"edge5\" class=\"edge\">\n",
       "<title>1497280428592&#45;&gt;1497280428832*</title>\n",
       "<path fill=\"none\" stroke=\"black\" d=\"M804.87,-34.52C813.71,-36.09 822.28,-37.61 830.09,-38.99\"/>\n",
       "<polygon fill=\"black\" stroke=\"black\" points=\"829.34,-42.41 839.8,-40.72 830.56,-35.52 829.34,-42.41\"/>\n",
       "</g>\n",
       "<!-- 1497280428688 -->\n",
       "<g id=\"node3\" class=\"node\">\n",
       "<title>1497280428688</title>\n",
       "<polygon fill=\"none\" stroke=\"black\" points=\"623.62,-55.5 623.62,-91.5 803.62,-91.5 803.62,-55.5 623.62,-55.5\"/>\n",
       "<text text-anchor=\"middle\" x=\"635\" y=\"-68.7\" font-family=\"Times New Roman,serif\" font-size=\"14.00\">d</text>\n",
       "<polyline fill=\"none\" stroke=\"black\" points=\"646.38,-56 646.38,-91.5\"/>\n",
       "<text text-anchor=\"middle\" x=\"686.25\" y=\"-68.7\" font-family=\"Times New Roman,serif\" font-size=\"14.00\">data 4.0000</text>\n",
       "<polyline fill=\"none\" stroke=\"black\" points=\"726.12,-56 726.12,-91.5\"/>\n",
       "<text text-anchor=\"middle\" x=\"764.88\" y=\"-68.7\" font-family=\"Times New Roman,serif\" font-size=\"14.00\">grad0.0000</text>\n",
       "</g>\n",
       "<!-- 1497280428688&#45;&gt;1497280428832* -->\n",
       "<g id=\"edge6\" class=\"edge\">\n",
       "<title>1497280428688&#45;&gt;1497280428832*</title>\n",
       "<path fill=\"none\" stroke=\"black\" d=\"M804,-57.05C813.12,-55.37 821.98,-53.74 830.03,-52.26\"/>\n",
       "<polygon fill=\"black\" stroke=\"black\" points=\"830.49,-55.73 839.69,-50.48 829.23,-48.85 830.49,-55.73\"/>\n",
       "</g>\n",
       "<!-- 1497280428688+&#45;&gt;1497280428688 -->\n",
       "<g id=\"edge1\" class=\"edge\">\n",
       "<title>1497280428688+&#45;&gt;1497280428688</title>\n",
       "<path fill=\"none\" stroke=\"black\" d=\"M587,-73.5C594.44,-73.5 603.01,-73.5 612.09,-73.5\"/>\n",
       "<polygon fill=\"black\" stroke=\"black\" points=\"611.88,-77 621.88,-73.5 611.88,-70 611.88,-77\"/>\n",
       "</g>\n",
       "<!-- 1497280422784 -->\n",
       "<g id=\"node5\" class=\"node\">\n",
       "<title>1497280422784</title>\n",
       "<polygon fill=\"none\" stroke=\"black\" points=\"0,-56.5 0,-92.5 184.5,-92.5 184.5,-56.5 0,-56.5\"/>\n",
       "<text text-anchor=\"middle\" x=\"11.38\" y=\"-69.7\" font-family=\"Times New Roman,serif\" font-size=\"14.00\">b</text>\n",
       "<polyline fill=\"none\" stroke=\"black\" points=\"22.75,-57 22.75,-92.5\"/>\n",
       "<text text-anchor=\"middle\" x=\"64.88\" y=\"-69.7\" font-family=\"Times New Roman,serif\" font-size=\"14.00\">data &#45;3.0000</text>\n",
       "<polyline fill=\"none\" stroke=\"black\" points=\"107,-57 107,-92.5\"/>\n",
       "<text text-anchor=\"middle\" x=\"145.75\" y=\"-69.7\" font-family=\"Times New Roman,serif\" font-size=\"14.00\">grad0.0000</text>\n",
       "</g>\n",
       "<!-- 1497280428928* -->\n",
       "<g id=\"node10\" class=\"node\">\n",
       "<title>1497280428928*</title>\n",
       "<ellipse fill=\"none\" stroke=\"black\" cx=\"247.5\" cy=\"-46.5\" rx=\"27\" ry=\"18\"/>\n",
       "<text text-anchor=\"middle\" x=\"247.5\" y=\"-41.45\" font-family=\"Times New Roman,serif\" font-size=\"14.00\">*</text>\n",
       "</g>\n",
       "<!-- 1497280422784&#45;&gt;1497280428928* -->\n",
       "<g id=\"edge7\" class=\"edge\">\n",
       "<title>1497280422784&#45;&gt;1497280428928*</title>\n",
       "<path fill=\"none\" stroke=\"black\" d=\"M184.61,-57.81C193.46,-56.19 202.04,-54.62 209.86,-53.2\"/>\n",
       "<polygon fill=\"black\" stroke=\"black\" points=\"210.36,-56.66 219.57,-51.42 209.1,-49.78 210.36,-56.66\"/>\n",
       "</g>\n",
       "<!-- 1497280428832 -->\n",
       "<g id=\"node6\" class=\"node\">\n",
       "<title>1497280428832</title>\n",
       "<polygon fill=\"none\" stroke=\"black\" points=\"930.75,-27.5 930.75,-63.5 1116.75,-63.5 1116.75,-27.5 930.75,-27.5\"/>\n",
       "<text text-anchor=\"middle\" x=\"942.88\" y=\"-40.7\" font-family=\"Times New Roman,serif\" font-size=\"14.00\">L</text>\n",
       "<polyline fill=\"none\" stroke=\"black\" points=\"955,-28 955,-63.5\"/>\n",
       "<text text-anchor=\"middle\" x=\"997.12\" y=\"-40.7\" font-family=\"Times New Roman,serif\" font-size=\"14.00\">data &#45;8.0000</text>\n",
       "<polyline fill=\"none\" stroke=\"black\" points=\"1039.25,-28 1039.25,-63.5\"/>\n",
       "<text text-anchor=\"middle\" x=\"1078\" y=\"-40.7\" font-family=\"Times New Roman,serif\" font-size=\"14.00\">grad0.0000</text>\n",
       "</g>\n",
       "<!-- 1497280428832*&#45;&gt;1497280428832 -->\n",
       "<g id=\"edge2\" class=\"edge\">\n",
       "<title>1497280428832*&#45;&gt;1497280428832</title>\n",
       "<path fill=\"none\" stroke=\"black\" d=\"M895.22,-45.5C902.36,-45.5 910.53,-45.5 919.21,-45.5\"/>\n",
       "<polygon fill=\"black\" stroke=\"black\" points=\"918.94,-49 928.94,-45.5 918.94,-42 918.94,-49\"/>\n",
       "</g>\n",
       "<!-- 1497280415536 -->\n",
       "<g id=\"node8\" class=\"node\">\n",
       "<title>1497280415536</title>\n",
       "<polygon fill=\"none\" stroke=\"black\" points=\"2.62,-1.5 2.62,-37.5 181.88,-37.5 181.88,-1.5 2.62,-1.5\"/>\n",
       "<text text-anchor=\"middle\" x=\"13.62\" y=\"-14.7\" font-family=\"Times New Roman,serif\" font-size=\"14.00\">a</text>\n",
       "<polyline fill=\"none\" stroke=\"black\" points=\"24.62,-2 24.62,-37.5\"/>\n",
       "<text text-anchor=\"middle\" x=\"64.5\" y=\"-14.7\" font-family=\"Times New Roman,serif\" font-size=\"14.00\">data 2.0000</text>\n",
       "<polyline fill=\"none\" stroke=\"black\" points=\"104.38,-2 104.38,-37.5\"/>\n",
       "<text text-anchor=\"middle\" x=\"143.12\" y=\"-14.7\" font-family=\"Times New Roman,serif\" font-size=\"14.00\">grad0.0000</text>\n",
       "</g>\n",
       "<!-- 1497280415536&#45;&gt;1497280428928* -->\n",
       "<g id=\"edge9\" class=\"edge\">\n",
       "<title>1497280415536&#45;&gt;1497280428928*</title>\n",
       "<path fill=\"none\" stroke=\"black\" d=\"M181.95,-35.13C191.78,-36.86 201.34,-38.54 209.96,-40.06\"/>\n",
       "<polygon fill=\"black\" stroke=\"black\" points=\"209.11,-43.47 219.57,-41.76 210.33,-36.57 209.11,-43.47\"/>\n",
       "</g>\n",
       "<!-- 1497280428928 -->\n",
       "<g id=\"node9\" class=\"node\">\n",
       "<title>1497280428928</title>\n",
       "<polygon fill=\"none\" stroke=\"black\" points=\"311.62,-28.5 311.62,-64.5 495.38,-64.5 495.38,-28.5 311.62,-28.5\"/>\n",
       "<text text-anchor=\"middle\" x=\"322.62\" y=\"-41.7\" font-family=\"Times New Roman,serif\" font-size=\"14.00\">e</text>\n",
       "<polyline fill=\"none\" stroke=\"black\" points=\"333.62,-29 333.62,-64.5\"/>\n",
       "<text text-anchor=\"middle\" x=\"375.75\" y=\"-41.7\" font-family=\"Times New Roman,serif\" font-size=\"14.00\">data &#45;6.0000</text>\n",
       "<polyline fill=\"none\" stroke=\"black\" points=\"417.88,-29 417.88,-64.5\"/>\n",
       "<text text-anchor=\"middle\" x=\"456.62\" y=\"-41.7\" font-family=\"Times New Roman,serif\" font-size=\"14.00\">grad0.0000</text>\n",
       "</g>\n",
       "<!-- 1497280428928&#45;&gt;1497280428688+ -->\n",
       "<g id=\"edge8\" class=\"edge\">\n",
       "<title>1497280428928&#45;&gt;1497280428688+</title>\n",
       "<path fill=\"none\" stroke=\"black\" d=\"M495.86,-62.52C505,-64.12 513.86,-65.67 521.9,-67.08\"/>\n",
       "<polygon fill=\"black\" stroke=\"black\" points=\"521.08,-70.49 531.54,-68.77 522.29,-63.6 521.08,-70.49\"/>\n",
       "</g>\n",
       "<!-- 1497280428928*&#45;&gt;1497280428928 -->\n",
       "<g id=\"edge3\" class=\"edge\">\n",
       "<title>1497280428928*&#45;&gt;1497280428928</title>\n",
       "<path fill=\"none\" stroke=\"black\" d=\"M274.97,-46.5C282.37,-46.5 290.88,-46.5 299.93,-46.5\"/>\n",
       "<polygon fill=\"black\" stroke=\"black\" points=\"299.67,-50 309.67,-46.5 299.67,-43 299.67,-50\"/>\n",
       "</g>\n",
       "</g>\n",
       "</svg>\n"
      ],
      "text/plain": [
       "<graphviz.graphs.Digraph at 0x15c9cde1060>"
      ]
     },
     "execution_count": 10,
     "metadata": {},
     "output_type": "execute_result"
    }
   ],
   "source": [
    "draw_dot(L)"
   ]
  },
  {
   "cell_type": "code",
   "execution_count": 11,
   "metadata": {},
   "outputs": [],
   "source": [
    "#dd/dc? 1.0\n",
    "#dd/de? 1.0\n",
    "\n",
    "#d = c + e\n",
    "\n",
    "#Chain rule!\n",
    "#we want:\n",
    "#dL/dc\n",
    "#we know:\n",
    "#dL/dd = -2.0\n",
    "#dd/dc = 1.0\n",
    "\n",
    "#chain rule states (dL/dd) * (dd/dc) = dL/dc\n",
    "\n",
    "#lets apply chain rule again to get dL / da and dL / db\n",
    "#we know that:\n",
    "#dL/de = -2.0\n",
    "#chain rule says that dL / da = (dL / de) * local gradient.\n",
    "#dL / da = (dL / de) * (de/da) \n",
    "\n",
    "#e = a*b, \n",
    "#de/da = b\n",
    "#de/db = a\n",
    "#so dL/da = (dL/de) * b\n",
    "#and dL/db = (dL/de) * a"
   ]
  },
  {
   "cell_type": "code",
   "execution_count": 12,
   "metadata": {},
   "outputs": [
    {
     "data": {
      "text/plain": [
       "-7.4352"
      ]
     },
     "execution_count": 12,
     "metadata": {},
     "output_type": "execute_result"
    }
   ],
   "source": [
    "a = Value(2.0, label = 'a')\n",
    "b = Value(-3.0, label = 'b')\n",
    "c = Value(10.0, label = 'c')\n",
    "e = a*b; e.label = 'e'\n",
    "\n",
    "L.grad = 1.0\n",
    "f.grad = 4.0\n",
    "d.grad = -2\n",
    "c.grad = -2.0 * 1.0\n",
    "e.grad = -2.0 * 1.0\n",
    "a.grad = (-2.0 * -3.0)\n",
    "b.grad = (-2.0 * 2.0)\n",
    "\n",
    "a.data += 0.01 * a.grad\n",
    "b.data += 0.01 * b.grad\n",
    "c.data += 0.01 * c.grad\n",
    "d.data += 0.01 * d.grad\n",
    "\n",
    "e = a*b\n",
    "d = e+c\n",
    "L = d*f\n",
    "\n",
    "L.data\n"
   ]
  },
  {
   "cell_type": "code",
   "execution_count": 13,
   "metadata": {},
   "outputs": [
    {
     "name": "stdout",
     "output_type": "stream",
     "text": [
      "-4.000000000008441\n"
     ]
    }
   ],
   "source": [
    "def numerical_derivator():\n",
    "    h = 0.0001\n",
    "\n",
    "    a = Value(2.0, label = 'a')\n",
    "    b = Value(-3.0, label = 'b')\n",
    "    c = Value(10.0, label = 'c')\n",
    "    e = a*b; e.label = 'e'\n",
    "    d = e + c; d.label = 'd'\n",
    "    f = Value(-2.0, label ='f')\n",
    "    L = d*f; L.label = 'L'\n",
    "    L1 = L.data\n",
    "    \n",
    "    a = Value(2.0, label = 'a')\n",
    "    b = Value(-3.0, label = 'b')\n",
    "    b.data += h\n",
    "    c = Value(10.0, label = 'c')\n",
    "    e = a*b; e.label = 'e'\n",
    "    d = e + c; d.label = 'd'\n",
    "    f = Value(-2.0, label ='f')\n",
    "    L = d*f; L.label = 'L'\n",
    "    L2 = L.data \n",
    "    \n",
    "    print((L2-L1)/h)\n",
    "\n",
    "numerical_derivator()"
   ]
  },
  {
   "cell_type": "markdown",
   "metadata": {},
   "source": [
    "### Backpropagation is just recursively going through every node of a NN and locally applying the chain rule to figure out how each node affects the final output node\n"
   ]
  },
  {
   "cell_type": "markdown",
   "metadata": {},
   "source": [
    "#### Manual Backpropagation example 2: A neuron"
   ]
  },
  {
   "cell_type": "code",
   "execution_count": 14,
   "metadata": {},
   "outputs": [
    {
     "data": {
      "text/plain": [
       "[<matplotlib.lines.Line2D at 0x15c9f069b70>]"
      ]
     },
     "execution_count": 14,
     "metadata": {},
     "output_type": "execute_result"
    },
    {
     "data": {
      "image/png": "[encoded data removed]",
      "text/plain": [
       "<Figure size 640x480 with 1 Axes>"
      ]
     },
     "metadata": {},
     "output_type": "display_data"
    }
   ],
   "source": [
    "plt.plot( np.arange(-5,5,0.25), np.tanh(np.arange(-5,5,0.25)))"
   ]
  },
  {
   "cell_type": "code",
   "execution_count": 15,
   "metadata": {},
   "outputs": [],
   "source": [
    "#inputs x1,x2\n",
    "x1 = Value(2.0, label = 'x1')\n",
    "\n",
    "x2 = Value(0.0, label = 'x2')\n",
    "#weights w1, w2\n",
    "w1 = Value(-3.0, label = 'w1')\n",
    "\n",
    "w2 = Value(1.0, label = 'w2')\n",
    "#bias of the neuron\n",
    "b = Value(6.8813735870195432, label = 'b')\n",
    "\n",
    "#x1w1 + x2w2 + b \n",
    "x1w1 = x1*w1; x1w1.label='x1*w1'\n",
    "\n",
    "x2w2 = x2*w2; x2w2.label='x2*w2'\n",
    "\n",
    "x1w1x2w2 = x1w1 + x2w2 ; x1w1x2w2.label = 'x1*w1 + x2*w2'\n",
    "\n",
    "n = x1w1x2w2 + b; n.label = 'n'\n",
    "\n",
    "o = n.tanh(); o.label = 'output'\n"
   ]
  },
  {
   "cell_type": "code",
   "execution_count": 19,
   "metadata": {},
   "outputs": [
    {
     "data": {
      "image/svg+xml": [
       "<?xml version=\"1.0\" encoding=\"UTF-8\" standalone=\"no\"?>\n",
       "<!DOCTYPE svg PUBLIC \"-//W3C//DTD SVG 1.1//EN\"\n",
       " \"http://www.w3.org/Graphics/SVG/1.1/DTD/svg11.dtd\">\n",
       "<!-- Generated by graphviz version 12.1.0 (20240811.2233)\n",
       " -->\n",
       "<!-- Pages: 1 -->\n",
       "<svg width=\"1576pt\" height=\"210pt\"\n",
       " viewBox=\"0.00 0.00 1575.50 210.00\" xmlns=\"http://www.w3.org/2000/svg\" xmlns:xlink=\"http://www.w3.org/1999/xlink\">\n",
       "<g id=\"graph0\" class=\"graph\" transform=\"scale(1 1) rotate(0) translate(4 206)\">\n",
       "<polygon fill=\"white\" stroke=\"none\" points=\"-4,4 -4,-206 1571.5,-206 1571.5,4 -4,4\"/>\n",
       "<!-- 1497316898368 -->\n",
       "<g id=\"node1\" class=\"node\">\n",
       "<title>1497316898368</title>\n",
       "<polygon fill=\"none\" stroke=\"black\" points=\"1053.75,-54.5 1053.75,-90.5 1233.75,-90.5 1233.75,-54.5 1053.75,-54.5\"/>\n",
       "<text text-anchor=\"middle\" x=\"1065.12\" y=\"-67.7\" font-family=\"Times New Roman,serif\" font-size=\"14.00\">n</text>\n",
       "<polyline fill=\"none\" stroke=\"black\" points=\"1076.5,-55 1076.5,-90.5\"/>\n",
       "<text text-anchor=\"middle\" x=\"1116.38\" y=\"-67.7\" font-family=\"Times New Roman,serif\" font-size=\"14.00\">data 0.8814</text>\n",
       "<polyline fill=\"none\" stroke=\"black\" points=\"1156.25,-55 1156.25,-90.5\"/>\n",
       "<text text-anchor=\"middle\" x=\"1195\" y=\"-67.7\" font-family=\"Times New Roman,serif\" font-size=\"14.00\">grad0.5000</text>\n",
       "</g>\n",
       "<!-- 1497316899712tanh -->\n",
       "<g id=\"node13\" class=\"node\">\n",
       "<title>1497316899712tanh</title>\n",
       "<ellipse fill=\"none\" stroke=\"black\" cx=\"1296.75\" cy=\"-72.5\" rx=\"27\" ry=\"18\"/>\n",
       "<text text-anchor=\"middle\" x=\"1296.75\" y=\"-67.45\" font-family=\"Times New Roman,serif\" font-size=\"14.00\">tanh</text>\n",
       "</g>\n",
       "<!-- 1497316898368&#45;&gt;1497316899712tanh -->\n",
       "<g id=\"edge11\" class=\"edge\">\n",
       "<title>1497316898368&#45;&gt;1497316899712tanh</title>\n",
       "<path fill=\"none\" stroke=\"black\" d=\"M1233.9,-72.5C1242.26,-72.5 1250.39,-72.5 1257.87,-72.5\"/>\n",
       "<polygon fill=\"black\" stroke=\"black\" points=\"1257.85,-76 1267.85,-72.5 1257.85,-69 1257.85,-76\"/>\n",
       "</g>\n",
       "<!-- 1497316898368+ -->\n",
       "<g id=\"node2\" class=\"node\">\n",
       "<title>1497316898368+</title>\n",
       "<ellipse fill=\"none\" stroke=\"black\" cx=\"990.75\" cy=\"-72.5\" rx=\"27\" ry=\"18\"/>\n",
       "<text text-anchor=\"middle\" x=\"990.75\" y=\"-67.45\" font-family=\"Times New Roman,serif\" font-size=\"14.00\">+</text>\n",
       "</g>\n",
       "<!-- 1497316898368+&#45;&gt;1497316898368 -->\n",
       "<g id=\"edge1\" class=\"edge\">\n",
       "<title>1497316898368+&#45;&gt;1497316898368</title>\n",
       "<path fill=\"none\" stroke=\"black\" d=\"M1018.05,-72.5C1025.24,-72.5 1033.48,-72.5 1042.23,-72.5\"/>\n",
       "<polygon fill=\"black\" stroke=\"black\" points=\"1042.03,-76 1052.03,-72.5 1042.03,-69 1042.03,-76\"/>\n",
       "</g>\n",
       "<!-- 1497316900432 -->\n",
       "<g id=\"node3\" class=\"node\">\n",
       "<title>1497316900432</title>\n",
       "<polygon fill=\"none\" stroke=\"black\" points=\"0,-55.5 0,-91.5 194.25,-91.5 194.25,-55.5 0,-55.5\"/>\n",
       "<text text-anchor=\"middle\" x=\"16.25\" y=\"-68.7\" font-family=\"Times New Roman,serif\" font-size=\"14.00\">w1</text>\n",
       "<polyline fill=\"none\" stroke=\"black\" points=\"32.5,-56 32.5,-91.5\"/>\n",
       "<text text-anchor=\"middle\" x=\"74.62\" y=\"-68.7\" font-family=\"Times New Roman,serif\" font-size=\"14.00\">data &#45;3.0000</text>\n",
       "<polyline fill=\"none\" stroke=\"black\" points=\"116.75,-56 116.75,-91.5\"/>\n",
       "<text text-anchor=\"middle\" x=\"155.5\" y=\"-68.7\" font-family=\"Times New Roman,serif\" font-size=\"14.00\">grad1.0000</text>\n",
       "</g>\n",
       "<!-- 1497316898704* -->\n",
       "<g id=\"node15\" class=\"node\">\n",
       "<title>1497316898704*</title>\n",
       "<ellipse fill=\"none\" stroke=\"black\" cx=\"257.25\" cy=\"-73.5\" rx=\"27\" ry=\"18\"/>\n",
       "<text text-anchor=\"middle\" x=\"257.25\" y=\"-68.45\" font-family=\"Times New Roman,serif\" font-size=\"14.00\">*</text>\n",
       "</g>\n",
       "<!-- 1497316900432&#45;&gt;1497316898704* -->\n",
       "<g id=\"edge7\" class=\"edge\">\n",
       "<title>1497316900432&#45;&gt;1497316898704*</title>\n",
       "<path fill=\"none\" stroke=\"black\" d=\"M194.66,-73.5C203,-73.5 211.07,-73.5 218.46,-73.5\"/>\n",
       "<polygon fill=\"black\" stroke=\"black\" points=\"218.33,-77 228.33,-73.5 218.33,-70 218.33,-77\"/>\n",
       "</g>\n",
       "<!-- 1497316898992 -->\n",
       "<g id=\"node4\" class=\"node\">\n",
       "<title>1497316898992</title>\n",
       "<polygon fill=\"none\" stroke=\"black\" points=\"2.25,-165.5 2.25,-201.5 192,-201.5 192,-165.5 2.25,-165.5\"/>\n",
       "<text text-anchor=\"middle\" x=\"18.5\" y=\"-178.7\" font-family=\"Times New Roman,serif\" font-size=\"14.00\">w2</text>\n",
       "<polyline fill=\"none\" stroke=\"black\" points=\"34.75,-166 34.75,-201.5\"/>\n",
       "<text text-anchor=\"middle\" x=\"74.62\" y=\"-178.7\" font-family=\"Times New Roman,serif\" font-size=\"14.00\">data 1.0000</text>\n",
       "<polyline fill=\"none\" stroke=\"black\" points=\"114.5,-166 114.5,-201.5\"/>\n",
       "<text text-anchor=\"middle\" x=\"153.25\" y=\"-178.7\" font-family=\"Times New Roman,serif\" font-size=\"14.00\">grad0.0000</text>\n",
       "</g>\n",
       "<!-- 1497316894912* -->\n",
       "<g id=\"node6\" class=\"node\">\n",
       "<title>1497316894912*</title>\n",
       "<ellipse fill=\"none\" stroke=\"black\" cx=\"257.25\" cy=\"-128.5\" rx=\"27\" ry=\"18\"/>\n",
       "<text text-anchor=\"middle\" x=\"257.25\" y=\"-123.45\" font-family=\"Times New Roman,serif\" font-size=\"14.00\">*</text>\n",
       "</g>\n",
       "<!-- 1497316898992&#45;&gt;1497316894912* -->\n",
       "<g id=\"edge6\" class=\"edge\">\n",
       "<title>1497316898992&#45;&gt;1497316894912*</title>\n",
       "<path fill=\"none\" stroke=\"black\" d=\"M168.6,-165.02C177.3,-162.36 186.02,-159.49 194.25,-156.5 204.33,-152.83 215.06,-148.24 224.71,-143.85\"/>\n",
       "<polygon fill=\"black\" stroke=\"black\" points=\"226.1,-147.06 233.69,-139.67 223.14,-140.72 226.1,-147.06\"/>\n",
       "</g>\n",
       "<!-- 1497316894912 -->\n",
       "<g id=\"node5\" class=\"node\">\n",
       "<title>1497316894912</title>\n",
       "<polygon fill=\"none\" stroke=\"black\" points=\"322.5,-110.5 322.5,-146.5 532.5,-146.5 532.5,-110.5 322.5,-110.5\"/>\n",
       "<text text-anchor=\"middle\" x=\"348.88\" y=\"-123.7\" font-family=\"Times New Roman,serif\" font-size=\"14.00\">x2*w2</text>\n",
       "<polyline fill=\"none\" stroke=\"black\" points=\"375.25,-111 375.25,-146.5\"/>\n",
       "<text text-anchor=\"middle\" x=\"415.12\" y=\"-123.7\" font-family=\"Times New Roman,serif\" font-size=\"14.00\">data 0.0000</text>\n",
       "<polyline fill=\"none\" stroke=\"black\" points=\"455,-111 455,-146.5\"/>\n",
       "<text text-anchor=\"middle\" x=\"493.75\" y=\"-123.7\" font-family=\"Times New Roman,serif\" font-size=\"14.00\">grad0.5000</text>\n",
       "</g>\n",
       "<!-- 1497316899088+ -->\n",
       "<g id=\"node9\" class=\"node\">\n",
       "<title>1497316899088+</title>\n",
       "<ellipse fill=\"none\" stroke=\"black\" cx=\"597.75\" cy=\"-100.5\" rx=\"27\" ry=\"18\"/>\n",
       "<text text-anchor=\"middle\" x=\"597.75\" y=\"-95.45\" font-family=\"Times New Roman,serif\" font-size=\"14.00\">+</text>\n",
       "</g>\n",
       "<!-- 1497316894912&#45;&gt;1497316899088+ -->\n",
       "<g id=\"edge8\" class=\"edge\">\n",
       "<title>1497316894912&#45;&gt;1497316899088+</title>\n",
       "<path fill=\"none\" stroke=\"black\" d=\"M532.66,-111.17C542.35,-109.55 551.66,-108 560.04,-106.61\"/>\n",
       "<polygon fill=\"black\" stroke=\"black\" points=\"560.42,-110.09 569.71,-105 559.27,-103.19 560.42,-110.09\"/>\n",
       "</g>\n",
       "<!-- 1497316894912*&#45;&gt;1497316894912 -->\n",
       "<g id=\"edge2\" class=\"edge\">\n",
       "<title>1497316894912*&#45;&gt;1497316894912</title>\n",
       "<path fill=\"none\" stroke=\"black\" d=\"M284.54,-128.5C292.33,-128.5 301.4,-128.5 311.12,-128.5\"/>\n",
       "<polygon fill=\"black\" stroke=\"black\" points=\"310.82,-132 320.82,-128.5 310.82,-125 310.82,-132\"/>\n",
       "</g>\n",
       "<!-- 1497316900576 -->\n",
       "<g id=\"node7\" class=\"node\">\n",
       "<title>1497316900576</title>\n",
       "<polygon fill=\"none\" stroke=\"black\" points=\"1.5,-0.5 1.5,-36.5 192.75,-36.5 192.75,-0.5 1.5,-0.5\"/>\n",
       "<text text-anchor=\"middle\" x=\"16.25\" y=\"-13.7\" font-family=\"Times New Roman,serif\" font-size=\"14.00\">x1</text>\n",
       "<polyline fill=\"none\" stroke=\"black\" points=\"31,-1 31,-36.5\"/>\n",
       "<text text-anchor=\"middle\" x=\"70.88\" y=\"-13.7\" font-family=\"Times New Roman,serif\" font-size=\"14.00\">data 2.0000</text>\n",
       "<polyline fill=\"none\" stroke=\"black\" points=\"110.75,-1 110.75,-36.5\"/>\n",
       "<text text-anchor=\"middle\" x=\"151.75\" y=\"-13.7\" font-family=\"Times New Roman,serif\" font-size=\"14.00\">grad&#45;1.5000</text>\n",
       "</g>\n",
       "<!-- 1497316900576&#45;&gt;1497316898704* -->\n",
       "<g id=\"edge14\" class=\"edge\">\n",
       "<title>1497316900576&#45;&gt;1497316898704*</title>\n",
       "<path fill=\"none\" stroke=\"black\" d=\"M168.6,-36.98C177.3,-39.64 186.02,-42.51 194.25,-45.5 204.33,-49.17 215.06,-53.76 224.71,-58.15\"/>\n",
       "<polygon fill=\"black\" stroke=\"black\" points=\"223.14,-61.28 233.69,-62.33 226.1,-54.94 223.14,-61.28\"/>\n",
       "</g>\n",
       "<!-- 1497316899088 -->\n",
       "<g id=\"node8\" class=\"node\">\n",
       "<title>1497316899088</title>\n",
       "<polygon fill=\"none\" stroke=\"black\" points=\"660.75,-82.5 660.75,-118.5 927.75,-118.5 927.75,-82.5 660.75,-82.5\"/>\n",
       "<text text-anchor=\"middle\" x=\"713.38\" y=\"-95.7\" font-family=\"Times New Roman,serif\" font-size=\"14.00\">x1*w1 + x2*w2</text>\n",
       "<polyline fill=\"none\" stroke=\"black\" points=\"766,-83 766,-118.5\"/>\n",
       "<text text-anchor=\"middle\" x=\"808.12\" y=\"-95.7\" font-family=\"Times New Roman,serif\" font-size=\"14.00\">data &#45;6.0000</text>\n",
       "<polyline fill=\"none\" stroke=\"black\" points=\"850.25,-83 850.25,-118.5\"/>\n",
       "<text text-anchor=\"middle\" x=\"889\" y=\"-95.7\" font-family=\"Times New Roman,serif\" font-size=\"14.00\">grad0.5000</text>\n",
       "</g>\n",
       "<!-- 1497316899088&#45;&gt;1497316898368+ -->\n",
       "<g id=\"edge13\" class=\"edge\">\n",
       "<title>1497316899088&#45;&gt;1497316898368+</title>\n",
       "<path fill=\"none\" stroke=\"black\" d=\"M923.63,-82.02C934.06,-80.52 943.95,-79.09 952.76,-77.82\"/>\n",
       "<polygon fill=\"black\" stroke=\"black\" points=\"953.15,-81.31 962.55,-76.42 952.15,-74.38 953.15,-81.31\"/>\n",
       "</g>\n",
       "<!-- 1497316899088+&#45;&gt;1497316899088 -->\n",
       "<g id=\"edge3\" class=\"edge\">\n",
       "<title>1497316899088+&#45;&gt;1497316899088</title>\n",
       "<path fill=\"none\" stroke=\"black\" d=\"M624.98,-100.5C632.13,-100.5 640.41,-100.5 649.38,-100.5\"/>\n",
       "<polygon fill=\"black\" stroke=\"black\" points=\"649.12,-104 659.12,-100.5 649.12,-97 649.12,-104\"/>\n",
       "</g>\n",
       "<!-- 1497316629792 -->\n",
       "<g id=\"node10\" class=\"node\">\n",
       "<title>1497316629792</title>\n",
       "<polygon fill=\"none\" stroke=\"black\" points=\"3.75,-110.5 3.75,-146.5 190.5,-146.5 190.5,-110.5 3.75,-110.5\"/>\n",
       "<text text-anchor=\"middle\" x=\"18.5\" y=\"-123.7\" font-family=\"Times New Roman,serif\" font-size=\"14.00\">x2</text>\n",
       "<polyline fill=\"none\" stroke=\"black\" points=\"33.25,-111 33.25,-146.5\"/>\n",
       "<text text-anchor=\"middle\" x=\"73.12\" y=\"-123.7\" font-family=\"Times New Roman,serif\" font-size=\"14.00\">data 0.0000</text>\n",
       "<polyline fill=\"none\" stroke=\"black\" points=\"113,-111 113,-146.5\"/>\n",
       "<text text-anchor=\"middle\" x=\"151.75\" y=\"-123.7\" font-family=\"Times New Roman,serif\" font-size=\"14.00\">grad0.5000</text>\n",
       "</g>\n",
       "<!-- 1497316629792&#45;&gt;1497316894912* -->\n",
       "<g id=\"edge12\" class=\"edge\">\n",
       "<title>1497316629792&#45;&gt;1497316894912*</title>\n",
       "<path fill=\"none\" stroke=\"black\" d=\"M190.56,-128.5C200.3,-128.5 209.76,-128.5 218.33,-128.5\"/>\n",
       "<polygon fill=\"black\" stroke=\"black\" points=\"218.27,-132 228.27,-128.5 218.27,-125 218.27,-132\"/>\n",
       "</g>\n",
       "<!-- 1497316898608 -->\n",
       "<g id=\"node11\" class=\"node\">\n",
       "<title>1497316898608</title>\n",
       "<polygon fill=\"none\" stroke=\"black\" points=\"704.25,-27.5 704.25,-63.5 884.25,-63.5 884.25,-27.5 704.25,-27.5\"/>\n",
       "<text text-anchor=\"middle\" x=\"715.62\" y=\"-40.7\" font-family=\"Times New Roman,serif\" font-size=\"14.00\">b</text>\n",
       "<polyline fill=\"none\" stroke=\"black\" points=\"727,-28 727,-63.5\"/>\n",
       "<text text-anchor=\"middle\" x=\"766.88\" y=\"-40.7\" font-family=\"Times New Roman,serif\" font-size=\"14.00\">data 6.8814</text>\n",
       "<polyline fill=\"none\" stroke=\"black\" points=\"806.75,-28 806.75,-63.5\"/>\n",
       "<text text-anchor=\"middle\" x=\"845.5\" y=\"-40.7\" font-family=\"Times New Roman,serif\" font-size=\"14.00\">grad0.5000</text>\n",
       "</g>\n",
       "<!-- 1497316898608&#45;&gt;1497316898368+ -->\n",
       "<g id=\"edge9\" class=\"edge\">\n",
       "<title>1497316898608&#45;&gt;1497316898368+</title>\n",
       "<path fill=\"none\" stroke=\"black\" d=\"M884.53,-57.89C908.51,-61.22 933.15,-64.64 952.55,-67.34\"/>\n",
       "<polygon fill=\"black\" stroke=\"black\" points=\"952.01,-70.79 962.39,-68.7 952.97,-63.86 952.01,-70.79\"/>\n",
       "</g>\n",
       "<!-- 1497316899712 -->\n",
       "<g id=\"node12\" class=\"node\">\n",
       "<title>1497316899712</title>\n",
       "<polygon fill=\"none\" stroke=\"black\" points=\"1359.75,-54.5 1359.75,-90.5 1567.5,-90.5 1567.5,-54.5 1359.75,-54.5\"/>\n",
       "<text text-anchor=\"middle\" x=\"1385\" y=\"-67.7\" font-family=\"Times New Roman,serif\" font-size=\"14.00\">output</text>\n",
       "<polyline fill=\"none\" stroke=\"black\" points=\"1410.25,-55 1410.25,-90.5\"/>\n",
       "<text text-anchor=\"middle\" x=\"1450.12\" y=\"-67.7\" font-family=\"Times New Roman,serif\" font-size=\"14.00\">data 0.7071</text>\n",
       "<polyline fill=\"none\" stroke=\"black\" points=\"1490,-55 1490,-90.5\"/>\n",
       "<text text-anchor=\"middle\" x=\"1528.75\" y=\"-67.7\" font-family=\"Times New Roman,serif\" font-size=\"14.00\">grad1.0000</text>\n",
       "</g>\n",
       "<!-- 1497316899712tanh&#45;&gt;1497316899712 -->\n",
       "<g id=\"edge4\" class=\"edge\">\n",
       "<title>1497316899712tanh&#45;&gt;1497316899712</title>\n",
       "<path fill=\"none\" stroke=\"black\" d=\"M1324.24,-72.5C1331.34,-72.5 1339.5,-72.5 1348.22,-72.5\"/>\n",
       "<polygon fill=\"black\" stroke=\"black\" points=\"1348.01,-76 1358.01,-72.5 1348.01,-69 1348.01,-76\"/>\n",
       "</g>\n",
       "<!-- 1497316898704 -->\n",
       "<g id=\"node14\" class=\"node\">\n",
       "<title>1497316898704</title>\n",
       "<polygon fill=\"none\" stroke=\"black\" points=\"320.25,-55.5 320.25,-91.5 534.75,-91.5 534.75,-55.5 320.25,-55.5\"/>\n",
       "<text text-anchor=\"middle\" x=\"346.62\" y=\"-68.7\" font-family=\"Times New Roman,serif\" font-size=\"14.00\">x1*w1</text>\n",
       "<polyline fill=\"none\" stroke=\"black\" points=\"373,-56 373,-91.5\"/>\n",
       "<text text-anchor=\"middle\" x=\"415.12\" y=\"-68.7\" font-family=\"Times New Roman,serif\" font-size=\"14.00\">data &#45;6.0000</text>\n",
       "<polyline fill=\"none\" stroke=\"black\" points=\"457.25,-56 457.25,-91.5\"/>\n",
       "<text text-anchor=\"middle\" x=\"496\" y=\"-68.7\" font-family=\"Times New Roman,serif\" font-size=\"14.00\">grad0.5000</text>\n",
       "</g>\n",
       "<!-- 1497316898704&#45;&gt;1497316899088+ -->\n",
       "<g id=\"edge10\" class=\"edge\">\n",
       "<title>1497316898704&#45;&gt;1497316899088+</title>\n",
       "<path fill=\"none\" stroke=\"black\" d=\"M535.06,-90.6C543.79,-92 552.17,-93.35 559.79,-94.57\"/>\n",
       "<polygon fill=\"black\" stroke=\"black\" points=\"559.15,-98.01 569.58,-96.14 560.26,-91.1 559.15,-98.01\"/>\n",
       "</g>\n",
       "<!-- 1497316898704*&#45;&gt;1497316898704 -->\n",
       "<g id=\"edge5\" class=\"edge\">\n",
       "<title>1497316898704*&#45;&gt;1497316898704</title>\n",
       "<path fill=\"none\" stroke=\"black\" d=\"M284.54,-73.5C291.62,-73.5 299.77,-73.5 308.49,-73.5\"/>\n",
       "<polygon fill=\"black\" stroke=\"black\" points=\"308.31,-77 318.31,-73.5 308.31,-70 308.31,-77\"/>\n",
       "</g>\n",
       "</g>\n",
       "</svg>\n"
      ],
      "text/plain": [
       "<graphviz.graphs.Digraph at 0x15c9f0ab100>"
      ]
     },
     "execution_count": 19,
     "metadata": {},
     "output_type": "execute_result"
    }
   ],
   "source": [
    "draw_dot(o)\n"
   ]
  },
  {
   "cell_type": "code",
   "execution_count": 17,
   "metadata": {},
   "outputs": [],
   "source": [
    "o.grad = 1.0\n",
    "n.grad = 1 - o.data **2 #0.5\n",
    "x1w1x2w2.grad = 0.5 #backpropagation distributes previous gradient through + operator. derivatives of both of these are 1 and chain rule thus causes us to multiply previous local derivative by 1\n",
    "b.grad = 0.5 #same as x1w1x2w2 grad definition\n",
    "\n",
    "\n",
    "#Now time to do the same for x2w2 and x1w1 nerons as well, as they are also combined by an addition operator in the math expression. same logic as before\n",
    "x2w2.grad = 0.5\n",
    "x1w1.grad = 0.5\n",
    "w2.grad = x2.data * x2w2.grad\n",
    "x2.grad = w2.data * x2w2.grad\n",
    "\n",
    "w1.grad = x1.data * x1w1.grad\n",
    "x1.grad = w1.data * x1w1.grad"
   ]
  },
  {
   "cell_type": "code",
   "execution_count": 18,
   "metadata": {},
   "outputs": [],
   "source": [
    "# o = tanh(n)\n",
    "# do/dn = 1-(tanh(n))**2\n",
    "# do/dn = 1-o**2"
   ]
  }
 ],
 "metadata": {
  "kernelspec": {
   "display_name": "Python 3",
   "language": "python",
   "name": "python3"
  },
  "language_info": {
   "codemirror_mode": {
    "name": "ipython",
    "version": 3
   },
   "file_extension": ".py",
   "mimetype": "text/x-python",
   "name": "python",
   "nbconvert_exporter": "python",
   "pygments_lexer": "ipython3",
   "version": "3.10.11"
  }
 },
 "nbformat": 4,
 "nbformat_minor": 2
}
